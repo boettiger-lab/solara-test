{
 "cells": [
  {
   "cell_type": "code",
   "execution_count": 1,
   "metadata": {},
   "outputs": [],
   "source": [
    "import leafmap\n",
    "import solara\n",
    "import pystac_client\n",
    "import planetary_computer\n",
    "import odc.stac\n",
    "import geopandas as gpd\n",
    "import dask.distributed\n",
    "import matplotlib.pyplot as plt\n",
    "import rioxarray\n",
    "from osgeo import gdal\n"
   ]
  },
  {
   "cell_type": "code",
   "execution_count": 6,
   "metadata": {},
   "outputs": [],
   "source": [
    "\n",
    "# Stashed public copies of NPS polygons and CalFire polygons\n",
    "\n",
    "\n",
    "zoom = solara.reactive(8)\n",
    "center = solara.reactive((34, -114))\n",
    "nps = gpd.read_file(\"/vsicurl/https://huggingface.co/datasets/cboettig/biodiversity/resolve/main/data/NPS.gdb\")\n",
    "calfire = gpd.read_file(\"/vsicurl/https://huggingface.co/datasets/cboettig/biodiversity/resolve/main/data/fire22_1.gdb\",  layer = \"firep22_1\")\n"
   ]
  },
  {
   "cell_type": "code",
   "execution_count": 7,
   "metadata": {},
   "outputs": [],
   "source": [
    "\n",
    "\n",
    "\n",
    "# fire = gpd.read_file(\"/vsizip/vsicurl/https://edcintl.cr.usgs.gov/downloads/sciweb1/shared/MTBS_Fire/data/composite_data/burned_area_extent_shapefile/mtbs_perimeter_data.zip\"\n",
    "\n",
    "# extract and reproject the Joshua Tree NP Polygon\n",
    "jtree = nps[nps.PARKNAME == \"Joshua Tree\"].to_crs(calfire.crs)\n",
    "# All Fires in the DB that intersect the Park\n",
    "jtree_fires = jtree.overlay(calfire, how=\"intersection\")\n",
    "\n",
    "# Extract a polygon if interest.   > 2015 for Sentinel, otherwise we can use LandSat\n",
    "recent = jtree_fires[jtree_fires.YEAR_ > \"2015\"]\n",
    "big = recent[recent.Shape_Area == recent.Shape_Area.max()].to_crs(\"EPSG:4326\")\n",
    "datetime = big.ALARM_DATE.item() + \"/\" + big.CONT_DATE.item()\n",
    "box = big.buffer(0.005).bounds.to_numpy()[0]  # Fire bbox + buffer\n",
    "#box = jtree.to_crs(\"EPSG:4326\").bounds.to_numpy()[0] # Park bbox\n",
    "\n",
    "# STAC Search for this imagery in space/time window\n",
    "items = (\n",
    "     pystac_client.Client.\n",
    "     open(\"https://planetarycomputer.microsoft.com/api/stac/v1\",\n",
    "          modifier=planetary_computer.sign_inplace).\n",
    "     search(collections=[\"sentinel-2-l2a\"],\n",
    "            bbox=box,\n",
    "            datetime=datetime,\n",
    "            query={\"eo:cloud_cover\": {\"lt\": 10}}).\n",
    "    item_collection())\n",
    "\n",
    "\n",
    "# Time to compute:\n",
    "\n",
    "client = dask.distributed.Client()\n",
    "# landsat_bands = [\"nir08\",  \"swir16\"]\n",
    "sentinel_bands = [\"B08\", \"B12\", \"SCL\"]\n",
    "\n",
    "# The magic of gdalwarper. Can also resample, reproject, and aggregate on the fly\n",
    "data = odc.stac.load(items,\n",
    "                     bands=sentinel_bands,\n",
    "                     bbox=box\n",
    ")\n",
    "\n",
    "swir = data[\"B12\"].astype(\"float\")\n",
    "nir = data[\"B08\"].astype(\"float\")\n",
    "\n",
    "# can resample and aggregate in xarray. compute with dask\n",
    "nbs = (((nir - swir) / (nir + swir)).\n",
    "      #  resample(time=\"MS\").\n",
    "      #  median(\"time\", keep_attrs=True).\n",
    "        compute()\n",
    ")\n",
    "nbs.rio.to_raster(raster_path=\"nbs.tif\", driver=\"COG\")\n",
    "\n"
   ]
  },
  {
   "cell_type": "code",
   "execution_count": null,
   "metadata": {},
   "outputs": [],
   "source": []
  },
  {
   "cell_type": "code",
   "execution_count": 12,
   "metadata": {},
   "outputs": [],
   "source": [
    "\n",
    "\n",
    "class Map(leafmap.Map):\n",
    "    def __init__(self, **kwargs):\n",
    "        super().__init__(**kwargs)\n",
    "        # Add what you want below\n",
    "        # self.add_gdf(jtree, layer_name = \"Joshua Tree NP\")\n",
    "       # self.add_gdf(jtree_fires)\n",
    "        self.add_gdf(big, later_name = big.FIRE_NAME.item())\n",
    "        self.add_raster(\"nbs.tif\")\n",
    "        self.add_stac_gui()\n",
    "\n",
    "\n",
    "@solara.component\n",
    "def Page():\n",
    "    with solara.Column(style={\"min-width\": \"500px\"}):\n",
    "        # solara components support reactive variables\n",
    "        # solara.SliderInt(label=\"Zoom level\", value=zoom, min=1, max=20)\n",
    "        # using 3rd party widget library require wiring up the events manually\n",
    "        # using zoom.value and zoom.set\n",
    "        Map.element(  # type: ignore\n",
    "            zoom=zoom.value,\n",
    "            on_zoom=zoom.set,\n",
    "            center=center.value,\n",
    "            on_center=center.set,\n",
    "            scroll_wheel_zoom=True,\n",
    "            toolbar_ctrl=False,\n",
    "            data_ctrl=False,\n",
    "            height=\"780px\",\n",
    "        )\n",
    "        solara.Text(f\"Zoom: {zoom.value}\")\n",
    "        solara.Text(f\"Center: {center.value}\")\n"
   ]
  },
  {
   "cell_type": "code",
   "execution_count": 13,
   "metadata": {},
   "outputs": [
    {
     "data": {
      "application/vnd.jupyter.widget-view+json": {
       "model_id": "a5c4da169c9a449096fed91ac8b50aee",
       "version_major": 2,
       "version_minor": 0
      },
      "text/html": [
       "Cannot show widget. You probably want to rerun the code cell above (<i>Click in the code cell, and press Shift+Enter <kbd>⇧</kbd>+<kbd>↩</kbd></i>)."
      ],
      "text/plain": [
       "Cannot show ipywidgets in text"
      ]
     },
     "metadata": {},
     "output_type": "display_data"
    }
   ],
   "source": [
    "Page()"
   ]
  }
 ],
 "metadata": {
  "kernelspec": {
   "display_name": ".venv",
   "language": "python",
   "name": "python3"
  },
  "language_info": {
   "codemirror_mode": {
    "name": "ipython",
    "version": 3
   },
   "file_extension": ".py",
   "mimetype": "text/x-python",
   "name": "python",
   "nbconvert_exporter": "python",
   "pygments_lexer": "ipython3",
   "version": "3.10.12"
  }
 },
 "nbformat": 4,
 "nbformat_minor": 2
}
